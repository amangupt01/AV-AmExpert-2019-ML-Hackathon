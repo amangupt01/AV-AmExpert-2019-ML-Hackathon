{
  "nbformat": 4,
  "nbformat_minor": 0,
  "metadata": {
    "colab": {
      "name": "Amexpert_Feature_engineering",
      "provenance": [],
      "private_outputs": true,
      "collapsed_sections": []
    },
    "kernelspec": {
      "name": "python3",
      "display_name": "Python 3"
    },
    "accelerator": "GPU"
  },
  "cells": [
    {
      "cell_type": "code",
      "metadata": {
        "id": "WvoVmj3-efdb",
        "colab_type": "code",
        "colab": {}
      },
      "source": [
        "from google.colab import files\n",
        "uploaded = files.upload()"
      ],
      "execution_count": 0,
      "outputs": []
    },
    {
      "cell_type": "code",
      "metadata": {
        "id": "ap4fVCOiergx",
        "colab_type": "code",
        "colab": {}
      },
      "source": [
        "!unzip amexpert-2019.zip"
      ],
      "execution_count": 0,
      "outputs": []
    },
    {
      "cell_type": "code",
      "metadata": {
        "id": "9DmneRqZgMhQ",
        "colab_type": "code",
        "colab": {}
      },
      "source": [
        "import pandas as pd\n",
        "train = pd.read_csv('amexpert-2019/train.csv')\n",
        "campaign_data = pd.read_csv('amexpert-2019/campaign_data.csv')\n",
        "cutomer_data = pd.read_csv('amexpert-2019/customer_demographics.csv')\n",
        "transaction_data = pd.read_csv('amexpert-2019/customer_transaction_data.csv')\n",
        "item_data = pd.read_csv('amexpert-2019/item_data.csv')\n",
        "coupon_item = pd.read_csv('amexpert-2019/coupon_item_mapping.csv')\n",
        "test = pd.read_csv('amexpert-2019/test_QyjYwdj.csv')\n"
      ],
      "execution_count": 0,
      "outputs": []
    },
    {
      "cell_type": "code",
      "metadata": {
        "id": "icfHM5E2hfaD",
        "colab_type": "code",
        "colab": {}
      },
      "source": [
        "train.shape"
      ],
      "execution_count": 0,
      "outputs": []
    },
    {
      "cell_type": "code",
      "metadata": {
        "id": "S20hTG9VpZ4H",
        "colab_type": "code",
        "colab": {}
      },
      "source": [
        "test.shape"
      ],
      "execution_count": 0,
      "outputs": []
    },
    {
      "cell_type": "code",
      "metadata": {
        "id": "nq7xh6kmkhMy",
        "colab_type": "code",
        "colab": {}
      },
      "source": [
        "campaign_data['start_date'] =  pd.to_datetime(campaign_data['start_date'],format  = '%d/%m/%y')\n",
        "campaign_data['end_date'] =  pd.to_datetime(campaign_data['end_date'],format  = '%d/%m/%y')"
      ],
      "execution_count": 0,
      "outputs": []
    },
    {
      "cell_type": "code",
      "metadata": {
        "id": "fGe6pqgD6Oj9",
        "colab_type": "code",
        "colab": {}
      },
      "source": [
        "campaign_data['duration'] = (campaign_data['end_date']-campaign_data['start_date']).dt.days"
      ],
      "execution_count": 0,
      "outputs": []
    },
    {
      "cell_type": "code",
      "metadata": {
        "id": "r-b5J0-Q8vQ-",
        "colab_type": "code",
        "colab": {}
      },
      "source": [
        "campaign_data.sort_values(by = ['start_date','end_date'],inplace = True)"
      ],
      "execution_count": 0,
      "outputs": []
    },
    {
      "cell_type": "code",
      "metadata": {
        "id": "Ehe7l7cg-otD",
        "colab_type": "code",
        "colab": {}
      },
      "source": [
        "campaign_data = pd.merge(campaign_data,(campaign_data['start_date']-campaign_data['start_date'].shift(1)).dt.days,left_index=True,right_index = True )"
      ],
      "execution_count": 0,
      "outputs": []
    },
    {
      "cell_type": "code",
      "metadata": {
        "id": "78-QEHVBAtgJ",
        "colab_type": "code",
        "colab": {}
      },
      "source": [
        "campaign_data.rename(columns={'start_date_x':'start_date','start_date_y':'days_from_start_of_last_campaign'},inplace = True)"
      ],
      "execution_count": 0,
      "outputs": []
    },
    {
      "cell_type": "code",
      "metadata": {
        "id": "_ga6yvCeDjk8",
        "colab_type": "code",
        "colab": {}
      },
      "source": [
        "campaign_data['days_from_end_of_last_campaign']=(campaign_data['start_date']-campaign_data['end_date'].shift(1)).dt.days"
      ],
      "execution_count": 0,
      "outputs": []
    },
    {
      "cell_type": "code",
      "metadata": {
        "id": "M8TlyBoNEoq6",
        "colab_type": "code",
        "colab": {}
      },
      "source": [
        "campaign_data['days_from_end_of_last_campaign']=campaign_data['days_from_end_of_last_campaign'].fillna(0)\n",
        "campaign_data['days_from_start_of_last_campaign']= campaign_data['days_from_start_of_last_campaign'].fillna(0)"
      ],
      "execution_count": 0,
      "outputs": []
    },
    {
      "cell_type": "code",
      "metadata": {
        "id": "Eljly6XrGa2b",
        "colab_type": "code",
        "colab": {}
      },
      "source": [
        "train = train.merge(campaign_data,on = 'campaign_id')\n",
        "train"
      ],
      "execution_count": 0,
      "outputs": []
    },
    {
      "cell_type": "code",
      "metadata": {
        "id": "HGadVCHXG3J1",
        "colab_type": "code",
        "colab": {}
      },
      "source": [
        "test = test.merge(campaign_data,on ='campaign_id')\n",
        "test"
      ],
      "execution_count": 0,
      "outputs": []
    },
    {
      "cell_type": "code",
      "metadata": {
        "id": "mUVQYq69Hb9g",
        "colab_type": "code",
        "colab": {}
      },
      "source": [
        "print(train['end_date'].max(),test['start_date'].min())"
      ],
      "execution_count": 0,
      "outputs": []
    },
    {
      "cell_type": "code",
      "metadata": {
        "id": "__UC3x11Mpnx",
        "colab_type": "code",
        "colab": {}
      },
      "source": [
        "item_data['type'] = item_data['brand_type']+'_'+item_data['category']"
      ],
      "execution_count": 0,
      "outputs": []
    },
    {
      "cell_type": "code",
      "metadata": {
        "id": "9SWyU-9BM62u",
        "colab_type": "code",
        "colab": {}
      },
      "source": [
        "items_per_brand = item_data.groupby('brand')['item_id'].nunique().to_dict()\n",
        "category_per_brand = item_data.groupby('brand')['category'].nunique().to_dict()"
      ],
      "execution_count": 0,
      "outputs": []
    },
    {
      "cell_type": "code",
      "metadata": {
        "id": "Q4IdsBvYO4e_",
        "colab_type": "code",
        "colab": {}
      },
      "source": [
        "item_data['items_per_brand'] = item_data['brand'].map(items_per_brand)\n",
        "item_data['category_per_brand'] = item_data['brand'].map(category_per_brand)"
      ],
      "execution_count": 0,
      "outputs": []
    },
    {
      "cell_type": "code",
      "metadata": {
        "id": "PH4rgxhO0X27",
        "colab_type": "code",
        "colab": {}
      },
      "source": [
        "coupon_item['item_id'].nunique()"
      ],
      "execution_count": 0,
      "outputs": []
    },
    {
      "cell_type": "code",
      "metadata": {
        "id": "sEA-xzvn1VeW",
        "colab_type": "code",
        "colab": {}
      },
      "source": [
        "(train['coupon_id']).nunique()"
      ],
      "execution_count": 0,
      "outputs": []
    },
    {
      "cell_type": "code",
      "metadata": {
        "id": "Tdvh_KxK4Rxd",
        "colab_type": "code",
        "colab": {}
      },
      "source": [
        "coupon_item = coupon_item.merge(item_data,on = 'item_id')"
      ],
      "execution_count": 0,
      "outputs": []
    },
    {
      "cell_type": "code",
      "metadata": {
        "id": "FIJok0LZ5fxo",
        "colab_type": "code",
        "colab": {}
      },
      "source": [
        "coupon_item['coupon_id'].unique()"
      ],
      "execution_count": 0,
      "outputs": []
    },
    {
      "cell_type": "code",
      "metadata": {
        "id": "sFMMX5iG5u-n",
        "colab_type": "code",
        "colab": {}
      },
      "source": [
        "coupon_item['items_per_coupon'] = coupon_item['coupon_id'].map(coupon_item.groupby('coupon_id')['item_id'].nunique().to_dict())\n",
        "coupon_item['coupons_per_item'] = coupon_item['item_id'].map(coupon_item.groupby('item_id')['coupon_id'].nunique().to_dict())"
      ],
      "execution_count": 0,
      "outputs": []
    },
    {
      "cell_type": "code",
      "metadata": {
        "id": "-EWfUUkA9uoH",
        "colab_type": "code",
        "colab": {}
      },
      "source": [
        "customer_data = cutomer_data"
      ],
      "execution_count": 0,
      "outputs": []
    },
    {
      "cell_type": "code",
      "metadata": {
        "id": "rdB-xxvoCfNa",
        "colab_type": "code",
        "colab": {}
      },
      "source": [
        "transaction_data['date'] = pd.to_datetime(transaction_data['date'],format = '%Y-%m-%d')"
      ],
      "execution_count": 0,
      "outputs": []
    },
    {
      "cell_type": "code",
      "metadata": {
        "id": "RbgoBYE8Cu7K",
        "colab_type": "code",
        "colab": {}
      },
      "source": [
        "transaction_data['month'] = (transaction_data['date'].dt.month)\n",
        "transaction_data['day_of_week'] = (transaction_data['date'].dt.dayofweek)\n",
        "transaction_data['ismonthend'] = (transaction_data['date'].dt.day > 25).astype('int')\n",
        "transaction_data['ismonthbeginning'] = (transaction_data['date'].dt.day < 7).astype('int')"
      ],
      "execution_count": 0,
      "outputs": []
    },
    {
      "cell_type": "code",
      "metadata": {
        "id": "kT6mShVYIUdY",
        "colab_type": "code",
        "colab": {}
      },
      "source": [
        "transaction_data['total_discount'] = transaction_data['other_discount']+transaction_data['coupon_discount']"
      ],
      "execution_count": 0,
      "outputs": []
    },
    {
      "cell_type": "code",
      "metadata": {
        "id": "a9CBxulCL1BP",
        "colab_type": "code",
        "colab": {}
      },
      "source": [
        "transaction_data['cost_price'] = transaction_data['selling_price']-transaction_data['total_discount']\n",
        "transaction_data['discount_prec'] = abs(transaction_data['total_discount'])/(transaction_data['cost_price'])"
      ],
      "execution_count": 0,
      "outputs": []
    },
    {
      "cell_type": "code",
      "metadata": {
        "id": "hU6YgN-WM1DY",
        "colab_type": "code",
        "colab": {}
      },
      "source": [
        "transaction_data['before_coupon_price'] = transaction_data['selling_price']- transaction_data['other_discount']\n",
        "transaction_data['is_coupon_present'] = (abs(transaction_data['coupon_discount'])>0).astype('int')\n",
        "transaction_data.sort_values(by = 'date',inplace = True)\n"
      ],
      "execution_count": 0,
      "outputs": []
    },
    {
      "cell_type": "code",
      "metadata": {
        "id": "M0TOXeAaM4ZH",
        "colab_type": "code",
        "colab": {}
      },
      "source": [
        "transaction_data['selling_price_ewm'] = transaction_data.groupby('customer_id')['selling_price'].apply(lambda x: x.ewm(halflife=2).mean())"
      ],
      "execution_count": 0,
      "outputs": []
    },
    {
      "cell_type": "code",
      "metadata": {
        "id": "sN0E1AjLJ-Hu",
        "colab_type": "code",
        "colab": {}
      },
      "source": [
        "transaction_data = transaction_data.merge(customer_data,on = 'customer_id')"
      ],
      "execution_count": 0,
      "outputs": []
    },
    {
      "cell_type": "code",
      "metadata": {
        "id": "UxMXtUGn3Wnb",
        "colab_type": "code",
        "colab": {}
      },
      "source": [
        "transaction_data['other_discount_ewm'] = transaction_data.groupby('customer_id')['other_discount'].apply(lambda x: x.ewm(halflife=2).mean())\n",
        "transaction_data['coupon_discount_ewm'] = transaction_data.groupby('customer_id')['coupon_discount'].apply(lambda x: x.ewm(halflife=2).mean())\n",
        "transaction_data['total_discount_ewm'] = transaction_data.groupby('customer_id')['total_discount'].apply(lambda x: x.ewm(halflife=2).mean())\n",
        "transaction_data['before_coupon_price_ewm'] = transaction_data.groupby('customer_id')['before_coupon_price'].apply(lambda x: x.ewm(halflife=2).mean())\n",
        "transaction_data['cost_price_ewm'] = transaction_data.groupby('customer_id')['cost_price'].apply(lambda x: x.ewm(halflife=2).mean())\n",
        "transaction_data['discount_prec_ewm'] = transaction_data.groupby('customer_id')['discount_prec'].apply(lambda x: x.ewm(halflife=2).mean())"
      ],
      "execution_count": 0,
      "outputs": []
    },
    {
      "cell_type": "code",
      "metadata": {
        "id": "opFHTLAs5vTi",
        "colab_type": "code",
        "colab": {}
      },
      "source": [
        "transaction_data = transaction_data.merge(item_data,on = 'item_id')"
      ],
      "execution_count": 0,
      "outputs": []
    },
    {
      "cell_type": "code",
      "metadata": {
        "id": "RJFg2xseBdnG",
        "colab_type": "code",
        "colab": {}
      },
      "source": [
        "transaction_data.columns"
      ],
      "execution_count": 0,
      "outputs": []
    },
    {
      "cell_type": "code",
      "metadata": {
        "id": "Ovh0_PjEtU10",
        "colab_type": "code",
        "colab": {}
      },
      "source": [
        "df=pd.concat((train,test),axis=0)"
      ],
      "execution_count": 0,
      "outputs": []
    },
    {
      "cell_type": "code",
      "metadata": {
        "id": "8EJG0TKgtvko",
        "colab_type": "code",
        "colab": {}
      },
      "source": [
        "temp=df[['customer_id','start_date','coupon_id','id']]"
      ],
      "execution_count": 0,
      "outputs": []
    },
    {
      "cell_type": "code",
      "metadata": {
        "id": "qA0uox0Dvp4Q",
        "colab_type": "code",
        "colab": {}
      },
      "source": [
        "def return_stats(x):\n",
        "    return [x.mean(),x.sum(),x.std(),x.max()]"
      ],
      "execution_count": 0,
      "outputs": []
    },
    {
      "cell_type": "code",
      "metadata": {
        "id": "sbpdBg82htJu",
        "colab_type": "code",
        "colab": {}
      },
      "source": [
        "df['customer_id'].nunique()"
      ],
      "execution_count": 0,
      "outputs": []
    },
    {
      "cell_type": "code",
      "metadata": {
        "id": "cMhSOHFGnycu",
        "colab_type": "code",
        "colab": {}
      },
      "source": [
        "df.shape"
      ],
      "execution_count": 0,
      "outputs": []
    },
    {
      "cell_type": "code",
      "metadata": {
        "id": "qOyAQN9dhtXf",
        "colab_type": "code",
        "colab": {}
      },
      "source": [
        "train.columns"
      ],
      "execution_count": 0,
      "outputs": []
    },
    {
      "cell_type": "code",
      "metadata": {
        "id": "TuFIs5dto6wd",
        "colab_type": "code",
        "colab": {}
      },
      "source": [
        "col = ['quantity', 'selling_price',\n",
        "       'other_discount', 'coupon_discount','total_discount', 'cost_price',\n",
        "       'discount_prec', 'before_coupon_price', 'is_coupon_present',\n",
        "       'selling_price_ewm','other_discount_ewm',\n",
        "       'coupon_discount_ewm', 'total_discount_ewm', 'before_coupon_price_ewm',\n",
        "       'cost_price_ewm', 'discount_prec_ewm','items_per_brand', 'category_per_brand']"
      ],
      "execution_count": 0,
      "outputs": []
    },
    {
      "cell_type": "code",
      "metadata": {
        "id": "sAOaum8dp51f",
        "colab_type": "code",
        "colab": {}
      },
      "source": [
        "for c in col :\n",
        "    temp[c+'_mean'] = 0\n",
        "    temp[c+'_max'] = 0\n",
        "    temp[c+'_std'] = 0\n",
        "    temp[c+'_sum'] = 0"
      ],
      "execution_count": 0,
      "outputs": []
    },
    {
      "cell_type": "code",
      "metadata": {
        "id": "4Z_Yami4qTGp",
        "colab_type": "code",
        "colab": {}
      },
      "source": [
        "from tqdm.auto import tqdm"
      ],
      "execution_count": 0,
      "outputs": []
    },
    {
      "cell_type": "code",
      "metadata": {
        "id": "oqulb1MdihfU",
        "colab_type": "code",
        "colab": {}
      },
      "source": [
        "for customer in tqdm(temp['customer_id'].unique()) :\n",
        "    t1 = temp.loc[temp['customer_id'] == customer]\n",
        "    for date in (t1['start_date'].unique()):\n",
        "        t2 = transaction_data.loc[(transaction_data['customer_id'] == customer)&(transaction_data['date']<date)]\n",
        "        if not t2.empty:\n",
        "            for c in col :\n",
        "                temp.loc[(temp['customer_id']==customer)& (temp['start_date']==date),c+'_mean'] = t2[c].mean()\n",
        "                temp.loc[(temp['customer_id']==customer)& (temp['start_date']==date),c+'_max'] = t2[c].max()\n",
        "                temp.loc[(temp['customer_id']==customer)& (temp['start_date']==date),c+'_std'] = t2[c].std()\n",
        "                temp.loc[(temp['customer_id']==customer)& (temp['start_date']==date),c+'_sum'] = t2[c].sum()\n",
        "\n",
        "\n"
      ],
      "execution_count": 0,
      "outputs": []
    },
    {
      "cell_type": "code",
      "metadata": {
        "id": "tMva1bLPrWiV",
        "colab_type": "code",
        "colab": {}
      },
      "source": [
        "temp['id'].nunique()"
      ],
      "execution_count": 0,
      "outputs": []
    },
    {
      "cell_type": "code",
      "metadata": {
        "id": "kmXRBLfW2mTM",
        "colab_type": "code",
        "colab": {}
      },
      "source": [
        "temp.to_csv('store')"
      ],
      "execution_count": 0,
      "outputs": []
    },
    {
      "cell_type": "code",
      "metadata": {
        "id": "GaIqEjZhkf1M",
        "colab_type": "code",
        "colab": {}
      },
      "source": [
        "train.shape"
      ],
      "execution_count": 0,
      "outputs": []
    },
    {
      "cell_type": "code",
      "metadata": {
        "id": "xPfb2YdzzZHE",
        "colab_type": "code",
        "colab": {}
      },
      "source": [
        "temp.columns"
      ],
      "execution_count": 0,
      "outputs": []
    },
    {
      "cell_type": "code",
      "metadata": {
        "id": "bWYcRzLlzZMI",
        "colab_type": "code",
        "colab": {}
      },
      "source": [
        "temp2 = temp.drop(columns = ['customer_id', 'start_date', 'coupon_id'])"
      ],
      "execution_count": 0,
      "outputs": []
    },
    {
      "cell_type": "code",
      "metadata": {
        "id": "s-vikgPzzAYc",
        "colab_type": "code",
        "colab": {}
      },
      "source": [
        "train= train.merge(temp2,on ='id',how = 'left')"
      ],
      "execution_count": 0,
      "outputs": []
    },
    {
      "cell_type": "code",
      "metadata": {
        "id": "ZfAggquxz21a",
        "colab_type": "code",
        "colab": {}
      },
      "source": [
        "test = test.merge(temp2,on = 'id',how = 'left')"
      ],
      "execution_count": 0,
      "outputs": []
    },
    {
      "cell_type": "code",
      "metadata": {
        "id": "O1ABC0dnz6ue",
        "colab_type": "code",
        "colab": {}
      },
      "source": [
        "test.shape"
      ],
      "execution_count": 0,
      "outputs": []
    },
    {
      "cell_type": "code",
      "metadata": {
        "id": "ln5PkVpY0TeG",
        "colab_type": "code",
        "colab": {}
      },
      "source": [
        "train.shape"
      ],
      "execution_count": 0,
      "outputs": []
    },
    {
      "cell_type": "code",
      "metadata": {
        "id": "uHdOxWkx0WSL",
        "colab_type": "code",
        "colab": {}
      },
      "source": [
        "train = train.merge(customer_data,on='customer_id',how = 'left')\n"
      ],
      "execution_count": 0,
      "outputs": []
    },
    {
      "cell_type": "code",
      "metadata": {
        "id": "LFNeQJZO1vbj",
        "colab_type": "code",
        "colab": {}
      },
      "source": [
        "train.shape"
      ],
      "execution_count": 0,
      "outputs": []
    },
    {
      "cell_type": "code",
      "metadata": {
        "id": "408-tqPn1EKm",
        "colab_type": "code",
        "colab": {}
      },
      "source": [
        "test = test.merge(customer_data,on='customer_id',how = 'left')"
      ],
      "execution_count": 0,
      "outputs": []
    },
    {
      "cell_type": "code",
      "metadata": {
        "id": "3XHDp8MI2M4l",
        "colab_type": "code",
        "colab": {}
      },
      "source": [
        "test.shape"
      ],
      "execution_count": 0,
      "outputs": []
    },
    {
      "cell_type": "code",
      "metadata": {
        "id": "JFuahy9730jG",
        "colab_type": "code",
        "colab": {}
      },
      "source": [
        "coupon_item.head()"
      ],
      "execution_count": 0,
      "outputs": []
    },
    {
      "cell_type": "code",
      "metadata": {
        "id": "fXQ1kR2p4M2B",
        "colab_type": "code",
        "colab": {}
      },
      "source": [
        "coupon_item.shape"
      ],
      "execution_count": 0,
      "outputs": []
    },
    {
      "cell_type": "code",
      "metadata": {
        "id": "jS5bLDsZ4OlY",
        "colab_type": "code",
        "colab": {}
      },
      "source": [
        "mapi = pd.read_csv('amexpert-2019/coupon_item_mapping.csv')"
      ],
      "execution_count": 0,
      "outputs": []
    },
    {
      "cell_type": "code",
      "metadata": {
        "id": "vjdPJsJc5S4Z",
        "colab_type": "code",
        "colab": {}
      },
      "source": [
        "p = train.merge(mapi,on='coupon_id',how = 'right')"
      ],
      "execution_count": 0,
      "outputs": []
    },
    {
      "cell_type": "code",
      "metadata": {
        "id": "OpxWYueZ5cQ2",
        "colab_type": "code",
        "colab": {}
      },
      "source": [
        "p.shape"
      ],
      "execution_count": 0,
      "outputs": []
    },
    {
      "cell_type": "code",
      "metadata": {
        "id": "jzJJSQby5eb1",
        "colab_type": "code",
        "colab": {}
      },
      "source": [
        "train.shape"
      ],
      "execution_count": 0,
      "outputs": []
    },
    {
      "cell_type": "code",
      "metadata": {
        "id": "NkkwQeZz6X3n",
        "colab_type": "code",
        "colab": {}
      },
      "source": [
        "test.shape"
      ],
      "execution_count": 0,
      "outputs": []
    },
    {
      "cell_type": "code",
      "metadata": {
        "id": "wGBKYFeZ6eyx",
        "colab_type": "code",
        "colab": {}
      },
      "source": [
        "train.columns"
      ],
      "execution_count": 0,
      "outputs": []
    },
    {
      "cell_type": "code",
      "metadata": {
        "id": "haCy1RUh6ik1",
        "colab_type": "code",
        "colab": {}
      },
      "source": [
        "train.to_csv('Final_Training_set')\n",
        "test.to_csv('Final_test_set')"
      ],
      "execution_count": 0,
      "outputs": []
    },
    {
      "cell_type": "code",
      "metadata": {
        "id": "dk7LdwEa6wdQ",
        "colab_type": "code",
        "colab": {}
      },
      "source": [
        ""
      ],
      "execution_count": 0,
      "outputs": []
    }
  ]
}